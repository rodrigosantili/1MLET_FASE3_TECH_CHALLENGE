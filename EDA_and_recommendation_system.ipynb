{
 "cells": [
  {
   "cell_type": "markdown",
   "id": "4cb2aea9",
   "metadata": {},
   "source": [
    "### Análise Exploratória de Dados (EDA) e Sistema de Recomendação com dados do Spotify"
   ]
  },
  {
   "cell_type": "markdown",
   "id": "14b163f3",
   "metadata": {},
   "source": [
    "#### Instalando Bibliotecas"
   ]
  },
  {
   "cell_type": "code",
   "execution_count": null,
   "id": "5733575d",
   "metadata": {},
   "outputs": [],
   "source": [
    "!pip install \\\n",
    "    numpy \\\n",
    "    pandas \\\n",
    "    seaborn \\\n",
    "    plotly \\\n",
    "    matplotlib \\\n",
    "    scikit-learn \\\n",
    "    setuptools \\\n",
    "    yellowbrick \\\n",
    "    wheel \\\n",
    "    scipy \\\n",
    "    spotipy #--break-system-packages"
   ]
  },
  {
   "cell_type": "markdown",
   "id": "02d0ac6a",
   "metadata": {},
   "source": [
    "#### Importando as bibliotecas necessárias"
   ]
  },
  {
   "cell_type": "code",
   "execution_count": 54,
   "id": "128cbd69",
   "metadata": {},
   "outputs": [],
   "source": [
    "import os\n",
    "import numpy as np\n",
    "import pandas as pd\n",
    "import seaborn as sns\n",
    "import plotly.express as px \n",
    "import matplotlib.pyplot as plt\n",
    "#%matplotlib inline\n",
    "\n",
    "from sklearn.cluster import KMeans\n",
    "from sklearn.preprocessing import StandardScaler\n",
    "from sklearn.pipeline import Pipeline\n",
    "from sklearn.manifold import TSNE\n",
    "from sklearn.decomposition import PCA\n",
    "from sklearn.metrics import euclidean_distances\n",
    "from scipy.spatial.distance import cdist\n",
    "\n",
    "import warnings\n",
    "warnings.filterwarnings(\"ignore\")\n",
    "\n",
    "\n",
    "#from yellowbrick.target import FeatureCorrelation # Continuar olhando por essa biblioteca não funciona\n"
   ]
  },
  {
   "cell_type": "markdown",
   "id": "07d22e33",
   "metadata": {},
   "source": [
    "#### Carregando os dados"
   ]
  },
  {
   "cell_type": "code",
   "execution_count": 55,
   "id": "88743c01",
   "metadata": {},
   "outputs": [],
   "source": [
    "data = pd.read_csv(\"dataset/data.csv\")\n",
    "genre_data = pd.read_csv(\"dataset/data_by_genres.csv\")\n",
    "year_data = pd.read_csv(\"dataset/data_by_year.csv\")\n",
    "artist_data = pd.read_csv(\"dataset/data_by_artist.csv\")"
   ]
  },
  {
   "cell_type": "markdown",
   "id": "aeadc09d",
   "metadata": {},
   "source": [
    "#### Lendo as primeiras linhas do dataset"
   ]
  },
  {
   "cell_type": "code",
   "execution_count": null,
   "id": "22ece9fa",
   "metadata": {},
   "outputs": [],
   "source": [
    "data.head()"
   ]
  },
  {
   "cell_type": "code",
   "execution_count": null,
   "id": "0603c6c7",
   "metadata": {},
   "outputs": [],
   "source": [
    "genre_data.head()"
   ]
  },
  {
   "cell_type": "code",
   "execution_count": null,
   "id": "e96a1dc9",
   "metadata": {
    "scrolled": false
   },
   "outputs": [],
   "source": [
    "year_data.head()"
   ]
  },
  {
   "cell_type": "code",
   "execution_count": null,
   "id": "a2b093d2",
   "metadata": {},
   "outputs": [],
   "source": [
    "artist_data.head()"
   ]
  },
  {
   "cell_type": "markdown",
   "id": "76d02075",
   "metadata": {},
   "source": [
    "#### Verificando os registros nulos por coluna"
   ]
  },
  {
   "cell_type": "code",
   "execution_count": null,
   "id": "a3758c4e",
   "metadata": {},
   "outputs": [],
   "source": [
    "pd.isnull(data).sum()"
   ]
  },
  {
   "cell_type": "code",
   "execution_count": null,
   "id": "1c46f845",
   "metadata": {},
   "outputs": [],
   "source": [
    "pd.isnull(genre_data).sum()"
   ]
  },
  {
   "cell_type": "code",
   "execution_count": null,
   "id": "5f747652",
   "metadata": {},
   "outputs": [],
   "source": [
    "pd.isnull(year_data).sum()"
   ]
  },
  {
   "cell_type": "code",
   "execution_count": null,
   "id": "97cbd202",
   "metadata": {},
   "outputs": [],
   "source": [
    "pd.isnull(artist_data).sum()"
   ]
  },
  {
   "cell_type": "markdown",
   "id": "d7380209",
   "metadata": {},
   "source": [
    "#### Resumo do dataframe (Coluna, Datatype e tamanho)"
   ]
  },
  {
   "cell_type": "code",
   "execution_count": null,
   "id": "82fffcaf",
   "metadata": {},
   "outputs": [],
   "source": [
    "data.info()"
   ]
  },
  {
   "cell_type": "code",
   "execution_count": null,
   "id": "0212bb31",
   "metadata": {},
   "outputs": [],
   "source": [
    "genre_data.info()"
   ]
  },
  {
   "cell_type": "code",
   "execution_count": null,
   "id": "6d122b16",
   "metadata": {},
   "outputs": [],
   "source": [
    "year_data.info()"
   ]
  },
  {
   "cell_type": "code",
   "execution_count": null,
   "id": "5599ca10",
   "metadata": {},
   "outputs": [],
   "source": [
    "artist_data.info()"
   ]
  },
  {
   "cell_type": "markdown",
   "id": "224ef549",
   "metadata": {},
   "source": [
    "#### Estatísticas descritivas das variáveis numéricas presentes nas colunas"
   ]
  },
  {
   "cell_type": "code",
   "execution_count": null,
   "id": "ddf83331",
   "metadata": {},
   "outputs": [],
   "source": [
    "data.describe().transpose()"
   ]
  },
  {
   "cell_type": "code",
   "execution_count": null,
   "id": "b3a0ad0f",
   "metadata": {},
   "outputs": [],
   "source": [
    "# Estatísticas descritivas das variáveis numéricas presentes nas colunas\n",
    "genre_data.describe().transpose()"
   ]
  },
  {
   "cell_type": "code",
   "execution_count": null,
   "id": "01eab35d",
   "metadata": {},
   "outputs": [],
   "source": [
    "# Estatísticas descritivas das variáveis numéricas presentes nas colunas\n",
    "year_data.describe().transpose()"
   ]
  },
  {
   "cell_type": "code",
   "execution_count": null,
   "id": "29a5048a",
   "metadata": {},
   "outputs": [],
   "source": [
    "artist_data.describe().transpose()"
   ]
  },
  {
   "cell_type": "markdown",
   "id": "7c35602f",
   "metadata": {},
   "source": [
    "### Top 5 músicas menos populares"
   ]
  },
  {
   "cell_type": "code",
   "execution_count": null,
   "id": "b9ef1d06",
   "metadata": {},
   "outputs": [],
   "source": [
    "least_popular = data.sort_values('popularity', ascending = True).head(5) \n",
    "least_popular[['year','name','release_date','artists']]"
   ]
  },
  {
   "cell_type": "markdown",
   "id": "e82ac020",
   "metadata": {},
   "source": [
    "### Top 5 músicas mais populares"
   ]
  },
  {
   "cell_type": "code",
   "execution_count": null,
   "id": "77c8a487",
   "metadata": {},
   "outputs": [],
   "source": [
    "most_popular = data.sort_values('popularity', ascending = False).head(5) \n",
    "most_popular[['year','name','release_date','artists']]"
   ]
  },
  {
   "cell_type": "markdown",
   "id": "48159928",
   "metadata": {},
   "source": [
    "### Top 10 artistas mais populares\n",
    "\n",
    "Quanto maior o seu índice de popularidade, mais provável é que o algoritmo recomende suas músicas para novos ouvintes e te coloque em playlists algorítmicas como \"Radar de Novidades\" e \"Descobertas da Semana\"."
   ]
  },
  {
   "cell_type": "code",
   "execution_count": null,
   "id": "ffc5bdb0",
   "metadata": {},
   "outputs": [],
   "source": [
    "popular_artists = artist_data.sort_values('popularity', ascending=False).head(10)\n",
    "popular_artists[['popularity','energy','artists','danceability']]"
   ]
  },
  {
   "cell_type": "markdown",
   "id": "e8b56c48",
   "metadata": {},
   "source": [
    "#### Convertendo a duração da música de milissegundos para minutos"
   ]
  },
  {
   "cell_type": "code",
   "execution_count": null,
   "id": "7d4b9bf6",
   "metadata": {
    "scrolled": true
   },
   "outputs": [],
   "source": [
    "data['duration']=data['duration_ms'].apply(lambda x : round((x/60000),2))\n",
    "genre_data['duration']=genre_data['duration_ms'].apply(lambda x : round((x/60000),2))\n",
    "year_data['duration']=year_data['duration_ms'].apply(lambda x : round((x/60000),2))\n",
    "artist_data['duration']=artist_data['duration_ms'].apply(lambda x : round((x/60000),2))\n",
    "data.duration.head()"
   ]
  },
  {
   "cell_type": "markdown",
   "id": "009af5da",
   "metadata": {},
   "source": [
    "###     Correlação entre Features e Popularidades"
   ]
  },
  {
   "cell_type": "code",
   "execution_count": null,
   "id": "6e3297b1",
   "metadata": {},
   "outputs": [],
   "source": [
    "# As features que você já definiu\n",
    "feature_names = ['acousticness', 'danceability', 'energy', 'instrumentalness',\n",
    "                 'liveness', 'loudness', 'speechiness', 'tempo', 'valence',\n",
    "                 'duration', 'explicit']\n",
    "\n",
    "# Separando os dados X e y\n",
    "X, y = data[feature_names], data['popularity']\n",
    "\n",
    "# Calculando correlações entre cada feature e o target\n",
    "corr_matrix = pd.concat([X, y], axis=1).corr()\n",
    "\n",
    "# Visualizando o mapa de calor de correlações com seaborn\n",
    "plt.figure(figsize=(10,8))\n",
    "sns.heatmap(corr_matrix, annot=True, cmap='coolwarm', fmt='.2f')\n",
    "plt.title('Correlação entre Features e Popularidade')\n",
    "plt.show()\n"
   ]
  },
  {
   "cell_type": "code",
   "execution_count": 77,
   "id": "b5459464",
   "metadata": {},
   "outputs": [],
   "source": [
    "# feature_names = ['acousticness', 'danceability', 'energy', 'instrumentalness',\n",
    "#        'liveness', 'loudness', 'speechiness', 'tempo', 'valence','duration','explicit']\n",
    "\n",
    "# X, y = data[feature_names], data['popularity']\n",
    "\n",
    "# # Create a list of the feature names\n",
    "# features = np.array(feature_names)\n",
    "\n",
    "# # Instantiate the visualizer\n",
    "# visualizer = FeatureCorrelation(labels=features)\n",
    "\n",
    "# visualizer.fit(X, y)     # Fit the data to the visualizer\n",
    "# visualizer.show();        # Finalize and render the figure"
   ]
  },
  {
   "cell_type": "code",
   "execution_count": null,
   "id": "fa804895",
   "metadata": {},
   "outputs": [],
   "source": [
    "# Select only numeric columns\n",
    "numeric_cols = data.select_dtypes(include=[float, int])\n",
    "\n",
    "# Calculate the correlation matrix\n",
    "corr_df = numeric_cols.corr(method='pearson')\n",
    "\n",
    "# Plot the heatmap\n",
    "plt.figure(figsize=(14,8))\n",
    "heatmap = sns.heatmap(corr_df, annot=True, fmt='.1g', vmin=-1, vmax=1, center=0, cmap=\"BrBG\", linewidths=2, linecolor=\"Black\")\n",
    "heatmap.set_title('Mapa de calor de correlação entre variáveis')\n",
    "heatmap.set_xticklabels(heatmap.get_xticklabels(), rotation=90)\n",
    "plt.show()\n"
   ]
  },
  {
   "cell_type": "markdown",
   "id": "07bbf78b",
   "metadata": {},
   "source": [
    "### Gráfico de regressão entre Intensidade (Loudness) e Energia"
   ]
  },
  {
   "cell_type": "code",
   "execution_count": null,
   "id": "1c60bbd2",
   "metadata": {},
   "outputs": [],
   "source": [
    "sns.regplot(data=data, y='loudness', x='energy', scatter_kws={\"color\": \"violet\", 's':2}, marker='2', line_kws={\"color\": \"black\", 'linewidth':1.5}).set(title='Correlação (Loudness VS Energy)')"
   ]
  },
  {
   "cell_type": "markdown",
   "id": "5acbfb18",
   "metadata": {},
   "source": [
    "### Gráfico de regressão entre Popularidade e Acústica (Acousticness)"
   ]
  },
  {
   "cell_type": "code",
   "execution_count": null,
   "id": "12e831a9",
   "metadata": {},
   "outputs": [],
   "source": [
    "sns.regplot(data=data, y='popularity', x='acousticness', scatter_kws={\"color\": \"c\", 's':3}, marker='X', line_kws={\"color\": \"black\", 'linewidth':1.5}).set(title='Correlação (Popularity VS Acousticness)');"
   ]
  },
  {
   "cell_type": "markdown",
   "id": "5d76e27e",
   "metadata": {},
   "source": [
    "### Gráfico de regressão entre Discurso (Speechiness) e Acústica (Acousticness)."
   ]
  },
  {
   "cell_type": "code",
   "execution_count": null,
   "id": "9b741e0a",
   "metadata": {},
   "outputs": [],
   "source": [
    "sns.regplot(data=data, y='speechiness', x='acousticness', scatter_kws={\"color\": \"goldenrod\", 's':3}, marker='+', line_kws={\"color\": \"black\", 'linewidth':1.5}).set(title='Correlação (Speechiness VS Acousticness)');"
   ]
  },
  {
   "cell_type": "markdown",
   "id": "77016d33",
   "metadata": {},
   "source": [
    "### Gráfico de regressão entre Popularidade e Dançabilidade (Danceability)"
   ]
  },
  {
   "cell_type": "code",
   "execution_count": null,
   "id": "db392e62",
   "metadata": {},
   "outputs": [],
   "source": [
    "sns.regplot(data=data, y='popularity', x='danceability', scatter_kws={\"color\": \"red\", 's':3}, marker='*', line_kws={\"color\": \"black\", 'linewidth':1.5}).set(title='Correlação (Popularity VS Danceability)');"
   ]
  },
  {
   "cell_type": "markdown",
   "id": "54d5ef5e",
   "metadata": {},
   "source": [
    "### Gráfico de barras para visualizar a correlação entre a duração das músicas e seus diferentes gêneros\n"
   ]
  },
  {
   "cell_type": "code",
   "execution_count": null,
   "id": "2b768ecc",
   "metadata": {},
   "outputs": [],
   "source": [
    "top_genres = genre_data.nlargest(20, 'popularity')\n",
    "plt.title(\"Duração das Músicas em Diferentes Gêneros\")\n",
    "#sns.color_palette(\"rocket\", as_cmap= True)\n",
    "sns.barplot(y='genres', x='duration', data=top_genres, color='lightsalmon')\n",
    "plt.xlabel (\"Duration in seconds\")\n",
    "plt.ylabel(\"Genres\");"
   ]
  },
  {
   "cell_type": "markdown",
   "id": "15bd0a87",
   "metadata": {},
   "source": [
    "## Música ao Longo do Tempo"
   ]
  },
  {
   "cell_type": "markdown",
   "id": "56981f41",
   "metadata": {},
   "source": [
    "### Gráfico de barras para visualizar a duração das músicas ao longo dos anos."
   ]
  },
  {
   "cell_type": "code",
   "execution_count": null,
   "id": "c6067ac7",
   "metadata": {
    "scrolled": false
   },
   "outputs": [],
   "source": [
    "plt.figure(figsize=(20,6))\n",
    "sns.barplot(x=\"year\",y=\"duration\", errwidth=False, data=data).set(title='Year Vs Duration')\n",
    "plt.xticks(rotation=90);"
   ]
  },
  {
   "cell_type": "markdown",
   "id": "0072a344",
   "metadata": {},
   "source": [
    "### Gráfico de distribuição para visualizar o número total de músicas em cada ano desde 1921 em nosso banco de dados do Spotify."
   ]
  },
  {
   "cell_type": "code",
   "execution_count": null,
   "id": "b036c3d0",
   "metadata": {
    "scrolled": false
   },
   "outputs": [],
   "source": [
    "fig = px.histogram(data, x=\"year\")\n",
    "fig.show()\n"
   ]
  },
  {
   "cell_type": "markdown",
   "id": "2d162084",
   "metadata": {},
   "source": [
    "### Como o som geral da música mudou de 1921 a 2020"
   ]
  },
  {
   "cell_type": "code",
   "execution_count": null,
   "id": "5cd6254c",
   "metadata": {},
   "outputs": [],
   "source": [
    "def extract_decade(year):\n",
    "    start_period = int(year/10) * 10\n",
    "    decade = '{}s'.format(start_period)\n",
    "    return decade\n",
    "\n",
    "data['decade'] = data['year'].apply(extract_decade)\n",
    "\n",
    "sns.set(rc={'figure.figsize':(10 ,5)})\n",
    "sns.countplot(data['decade'])"
   ]
  },
  {
   "cell_type": "code",
   "execution_count": null,
   "id": "2216e363",
   "metadata": {},
   "outputs": [],
   "source": [
    "sound_features = ['acousticness', 'liveness', 'instrumentalness', 'energy', 'danceability', 'valence']\n",
    "fig = px.line(year_data, x='year', y=sound_features)\n",
    "fig.show()"
   ]
  },
  {
   "cell_type": "markdown",
   "id": "5cb47959",
   "metadata": {},
   "source": [
    "### Características de vários gêneros ao longo dos anos\n",
    "Usando as características de áudio de diferentes gêneros, podemos compará-los e identificar suas diferenças únicas na música."
   ]
  },
  {
   "cell_type": "code",
   "execution_count": null,
   "id": "f6777a9c",
   "metadata": {},
   "outputs": [],
   "source": [
    "top_genres = genre_data.nlargest(10, 'popularity')\n",
    "\n",
    "fig = px.bar(top_genres, x='genres', y=['valence', 'energy', 'danceability', 'acousticness'], barmode='group')\n",
    "fig.show()"
   ]
  },
  {
   "cell_type": "markdown",
   "id": "44f69039",
   "metadata": {},
   "source": [
    "### Agrupando Gêneros com K-Means.\n",
    "\n",
    "Usando o algoritmo simples de clustering K-means para dividir os gêneros neste conjunto de dados em dez clusters com base nas características numéricas de áudio de cada gênero."
   ]
  },
  {
   "cell_type": "code",
   "execution_count": 89,
   "id": "eaea5f4d",
   "metadata": {},
   "outputs": [],
   "source": [
    "from sklearn.cluster import KMeans\n",
    "from sklearn.pipeline import Pipeline\n",
    "from sklearn.preprocessing import StandardScaler\n",
    "\n",
    "cluster_pipeline = Pipeline([('scaler', StandardScaler()), ('kmeans', KMeans(n_clusters=10))])\n",
    "X = genre_data.select_dtypes(np.number)\n",
    "cluster_pipeline.fit(X)\n",
    "genre_data['cluster'] = cluster_pipeline.predict(X)"
   ]
  },
  {
   "cell_type": "code",
   "execution_count": null,
   "id": "98a85a58",
   "metadata": {},
   "outputs": [],
   "source": [
    "from sklearn.manifold import TSNE\n",
    "\n",
    "tsne_pipeline = Pipeline([('scaler', StandardScaler()), ('tsne', TSNE(n_components=2, verbose=False))])\n",
    "genre_embedding = tsne_pipeline.fit_transform(X)\n",
    "projection = pd.DataFrame(columns=['x', 'y'], data=genre_embedding)\n",
    "projection['genres'] = genre_data['genres']\n",
    "projection['cluster'] = genre_data['cluster']\n",
    "\n",
    "fig = px.scatter(projection, x='x', y='y', color='cluster', hover_data=['x', 'y', 'genres'])\n",
    "fig.show()"
   ]
  },
  {
   "cell_type": "markdown",
   "id": "1b815613",
   "metadata": {},
   "source": [
    "### Agrupando Músicas com K-Means"
   ]
  },
  {
   "cell_type": "code",
   "execution_count": 91,
   "id": "89839a81",
   "metadata": {},
   "outputs": [],
   "source": [
    "number_cols = ['valence', 'year', 'acousticness', 'danceability', 'duration_ms', 'energy', 'explicit',\n",
    " 'instrumentalness', 'key', 'liveness', 'loudness', 'mode', 'popularity', 'speechiness', 'tempo']\n",
    "song_cluster_pipeline = Pipeline([('scaler', StandardScaler()), ('kmeans', KMeans(n_clusters=20, verbose=False))], verbose=False)\n",
    "\n",
    "X = data[number_cols].select_dtypes(np.number)\n",
    "song_cluster_pipeline.fit(X)\n",
    "song_cluster_labels = song_cluster_pipeline.predict(X)\n",
    "data['cluster_label'] = song_cluster_labels"
   ]
  },
  {
   "cell_type": "code",
   "execution_count": null,
   "id": "7bdf9aa8",
   "metadata": {},
   "outputs": [],
   "source": [
    "from sklearn.decomposition import PCA\n",
    "\n",
    "pca_pipeline = Pipeline([('scaler', StandardScaler()), ('PCA', PCA(n_components=2))])\n",
    "song_embedding = pca_pipeline.fit_transform(X)\n",
    "projection = pd.DataFrame(columns=['x', 'y'], data=song_embedding)\n",
    "projection['title'] = data['name']\n",
    "projection['cluster'] = data['cluster_label']\n",
    "\n",
    "fig = px.scatter(projection, x='x', y='y', color='cluster', hover_data=['x', 'y', 'title'])\n",
    "fig.show()"
   ]
  },
  {
   "cell_type": "markdown",
   "id": "9fdb8f29",
   "metadata": {},
   "source": [
    "### Construindo o Sistema de Recomendação\n",
    "A análise e as visualizações deixam claro que gêneros musicais semelhantes tendem a se agrupar, assim como músicas com características similares aparecem próximas no espaço de dados.\n",
    "\n",
    "Esse comportamento faz sentido, já que gêneros parecidos compartilham influências e contextos históricos, e o mesmo acontece com as músicas dentro desses gêneros. Essa proximidade nos dados pode ser explorada para criar um sistema de recomendação eficaz.\n",
    "\n",
    "Podemos utilizar as músicas que um usuário já ouviu para identificar padrões e, com base na similaridade dos dados, sugerir novas músicas com características próximas às suas preferências.\n",
    "\n",
    "Para implementar esse sistema, utilizaremos o Spotipy, um cliente Python para a API Web do Spotify, que facilita a busca e consulta ao catálogo musical. Com ele, conseguiremos acessar as informações necessárias para construir recomendações personalizadas de forma eficiente."
   ]
  },
  {
   "cell_type": "code",
   "execution_count": 93,
   "id": "5a532b13",
   "metadata": {},
   "outputs": [],
   "source": [
    "import spotipy\n",
    "from spotipy.oauth2 import SpotifyClientCredentials\n",
    "from collections import defaultdict\n",
    "import pandas as pd\n",
    "from dotenv import load_dotenv\n",
    "\n",
    "# Carrega as variáveis do arquivo .env\n",
    "load_dotenv()\n",
    "\n",
    "sp = spotipy.Spotify(auth_manager=SpotifyClientCredentials(client_id=os.getenv(\"SPOTIFY_CLIENT_ID\"),\n",
    "                                                           client_secret=os.getenv(\"SPOTIFY_CLIENT_SECRET\")))\n",
    "\n",
    "def find_song(name=None, artist=None):\n",
    "    song_data = defaultdict()\n",
    "\n",
    "    if name:\n",
    "        results = sp.search(q=f'track:{name}', limit=1)\n",
    "    elif artist:\n",
    "        results = sp.search(q=f'artist:{artist}', limit=1)\n",
    "    else:\n",
    "        return None\n",
    "\n",
    "    if results['tracks']['items'] == []:\n",
    "        return None\n",
    "\n",
    "    results = results['tracks']['items'][0]\n",
    "    track_id = results['id']\n",
    "    audio_features = sp.audio_features(track_id)[0]\n",
    "\n",
    "    song_data['name'] = [results['name']]\n",
    "    song_data['artist'] = [results['artists'][0]['name']]\n",
    "    song_data['explicit'] = [int(results['explicit'])]\n",
    "    song_data['duration_ms'] = [results['duration_ms']]\n",
    "    song_data['popularity'] = [results['popularity']]\n",
    "    song_data['year'] = [results['album']['release_date'][:4]]\n",
    "\n",
    "    for key, value in audio_features.items():\n",
    "        song_data[key] = value\n",
    "\n",
    "    return pd.DataFrame(song_data)\n"
   ]
  },
  {
   "cell_type": "code",
   "execution_count": 94,
   "id": "b9dedf00",
   "metadata": {},
   "outputs": [],
   "source": [
    "def get_song_data(song, spotify_data):\n",
    "    if 'name' in song:\n",
    "        try:\n",
    "            song_data = spotify_data[spotify_data['name'] == song['name']].iloc[0]\n",
    "            return song_data\n",
    "        except IndexError:\n",
    "            return find_song(name=song['name'])\n",
    "    elif 'artist' in song:\n",
    "        try:\n",
    "            song_data = spotify_data[spotify_data['artists'].apply(lambda x: song['artist'].lower() in x.lower())]\n",
    "            return song_data\n",
    "        except IndexError:\n",
    "            return find_song(artist=song['artist'])\n",
    "    else:\n",
    "        return None\n",
    "\n",
    "def get_mean_vector(song_list, spotify_data):\n",
    "    song_vectors = []\n",
    "    \n",
    "    for song in song_list:\n",
    "        song_data = get_song_data(song, spotify_data)\n",
    "        \n",
    "        if song_data is None or song_data.empty:\n",
    "            print(f\"Warning: {song.get('name', song.get('artist', 'Unknown'))} does not exist in Spotify or in database\")\n",
    "            continue\n",
    "        \n",
    "        try:\n",
    "            if isinstance(song_data, pd.DataFrame):\n",
    "                song_vector = song_data[number_cols].mean().values  \n",
    "            else:\n",
    "                song_vector = song_data[number_cols].values  \n",
    "            song_vectors.append(song_vector)\n",
    "        except KeyError as e:\n",
    "            print(f\"Erro ao tentar obter características da música {song.get('name', song.get('artist', 'Unknown'))}: {e}\")\n",
    "            continue\n",
    "    \n",
    "    if len(song_vectors) == 0:\n",
    "        print(\"Nenhuma música válida encontrada.\")\n",
    "        return None\n",
    "\n",
    "    try:\n",
    "        song_matrix = np.array(song_vectors)\n",
    "        if not check_vector_lengths(song_vectors):\n",
    "            print(\"Os vetores de músicas têm comprimentos diferentes.\")\n",
    "            return None\n",
    "        return np.mean(song_matrix, axis=0)\n",
    "    except ValueError as e:\n",
    "        print(\"Erro ao tentar criar a matriz: \", e)\n",
    "        return None\n",
    "\n",
    "import pandas as pd\n",
    "\n",
    "def check_vector_lengths(vectors):\n",
    "    lengths = [len(v) for v in vectors]\n",
    "    return all(length == lengths[0] for length in lengths)\n",
    "\n",
    "def flatten_dict_list(dict_list):\n",
    "    flattened_dict = defaultdict(list)\n",
    "    for dictionary in dict_list:\n",
    "        for key, value in dictionary.items():\n",
    "            flattened_dict[key].append(value)\n",
    "    return flattened_dict\n",
    "\n",
    "def recommend_songs(song_list, spotify_data, n_songs=5):\n",
    "    metadata_cols = ['name', 'year', 'artists']\n",
    "    song_dict = flatten_dict_list(song_list)\n",
    "    \n",
    "    song_center = get_mean_vector(song_list, spotify_data)\n",
    "    \n",
    "    if song_center is None:\n",
    "        print(\"Não foi possível calcular o vetor médio para as músicas fornecidas.\")\n",
    "        return []\n",
    "    \n",
    "    scaler = song_cluster_pipeline.steps[0][1]\n",
    "    scaled_data = scaler.transform(spotify_data[number_cols])\n",
    "    scaled_song_center = scaler.transform(song_center.reshape(1, -1))\n",
    "    \n",
    "    distances = cdist(scaled_song_center, scaled_data, 'cosine')\n",
    "    index = list(np.argsort(distances)[:, :n_songs][0])\n",
    "    \n",
    "    rec_songs = spotify_data.iloc[index]\n",
    "    \n",
    "    if 'name' in song_dict:\n",
    "        rec_songs = rec_songs[~rec_songs['name'].isin(song_dict['name'])]\n",
    "    \n",
    "    df_rec_songs = rec_songs[metadata_cols].to_dict(orient='records')\n",
    "    df_resultados = pd.DataFrame(df_rec_songs)\n",
    "    \n",
    "    df_resultados = df_resultados.rename(columns={\n",
    "        'artists': 'Artista/Banda',\n",
    "        'name': 'Musica',\n",
    "        'year': 'Ano'\n",
    "    })\n",
    "    \n",
    "    return df_resultados\n",
    "\n",
    "\n"
   ]
  },
  {
   "cell_type": "markdown",
   "id": "db4ed515",
   "metadata": {},
   "source": [
    "#### Recommended Songs:"
   ]
  },
  {
   "cell_type": "code",
   "execution_count": null,
   "id": "0cf6011f",
   "metadata": {},
   "outputs": [],
   "source": [
    "recommend_songs([{'name': 'Everybody Wants To Rule The World'}], data)"
   ]
  },
  {
   "cell_type": "code",
   "execution_count": null,
   "id": "8dae6d77",
   "metadata": {},
   "outputs": [],
   "source": [
    "recommend_songs([{'artist': 'Avenged Sevenfold'}], data)"
   ]
  },
  {
   "cell_type": "code",
   "execution_count": null,
   "id": "3e814c3b",
   "metadata": {},
   "outputs": [],
   "source": []
  }
 ],
 "metadata": {
  "kernelspec": {
   "display_name": "Python 3 (ipykernel)",
   "language": "python",
   "name": "python3"
  },
  "language_info": {
   "codemirror_mode": {
    "name": "ipython",
    "version": 3
   },
   "file_extension": ".py",
   "mimetype": "text/x-python",
   "name": "python",
   "nbconvert_exporter": "python",
   "pygments_lexer": "ipython3",
   "version": "3.12.3"
  }
 },
 "nbformat": 4,
 "nbformat_minor": 5
}
